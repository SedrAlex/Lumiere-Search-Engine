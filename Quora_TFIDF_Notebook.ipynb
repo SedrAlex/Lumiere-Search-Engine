{
 "cells": [
  {
   "cell_type": "code",
   "metadata": {},
   "outputs": [],
   "source": [
    "import re\n",
    "import joblib\n",
    "import pandas as pd\n",
    "from sklearn.feature_extraction.text import TfidfVectorizer\n",
    "from sklearn.metrics import average_precision_score\n",
    "from sklearn.pipeline import make_pipeline\n",
    "from sklearn.base import BaseEstimator, TransformerMixin\n",
    "\n",
    "# Custom text cleaning function\n",
    "def custom_clean(text):\n",
    "    # Example cleaning\n",
    "    text = re.sub(r'\\W', ' ', text) # Remove non-alphanumeric characters\n",
    "    text = text.lower() # Convert to lowercase\n",
    "    return text\n",
    "\n",
    "# Custom tokenizer\n",
    "class CustomTokenizer(BaseEstimator, TransformerMixin):\n",
    "    def fit(self, X, y=None):\n",
    "        return self\n",
    "    \n",
    "    def transform(self, X):\n",
    "        return [custom_clean(doc).split() for doc in X]\n",
    "\n",
    "# Load data (replace with actual paths)\n",
    "docs_path = \"/content/drive/MyDrive/downloads/docs.csv\"\n",
    "queries_path = \"/content/drive/MyDrive/downloads/queries.csv\"\n",
    "docs = pd.read_csv(docs_path)\n",
    "queries = pd.read_csv(queries_path)\n",
    "\n",
    "# Vectorization\n",
    "vectorizer = TfidfVectorizer(tokenizer=CustomTokenizer(), preprocessor=lambda x: x)\n",
    "X_docs = vectorizer.fit_transform(docs['text'])\n",
    "X_queries = vectorizer.transform(queries['text'])\n",
    "\n",
    "# Inverted index (stub, implement accordingly)\n",
    "inverted_index = {\n",
    "    # Populate with terms and indices\n",
    "}\n",
    "\n",
    "# Save the vectorizer, matrix, and indexes\n",
    "joblib.dump(vectorizer, \"/content/drive/MyDrive/downloads/tfidf_vectorizer.joblib\")\n",
    "joblib.dump(X_docs, \"/content/drive/MyDrive/downloads/tfidf_docs.joblib\")\n",
    "joblib.dump(inverted_index, \"/content/drive/MyDrive/downloads/inverted_index.joblib\")\n",
    "\n",
    "# Calculate and ensure MAP\n",
    "def calculate_map(query_vectors, doc_vectors):\n",
    "    # Implement the MAP calculation\n",
    "    pass\n",
    "\n",
    "map_score = calculate_map(X_queries, X_docs)\n",
    "assert map_score >= 0.3, f\"MAP score is too low: {map_score}\"\n",
    "\n",
    "print(f\"MAP score: {map_score}\")"
   ]
  }
 ],
 "metadata": {
  "kernelspec": {
   "display_name": "Python 3",
   "language": "python",
   "name": "python3"
  },
  "language_info": {
   "codemirror_mode": {
    "name": "ipython",
    "version": 3
   },
   "file_extension": ".py",
   "mimetype": "text/x-python",
   "name": "python",
   "nbconvert_exporter": "python",
   "pygments_lexer": "ipython3",
   "version": "3.8"
  }
 },
 "nbformat": 4,
 "nbformat_minor": 2
}

