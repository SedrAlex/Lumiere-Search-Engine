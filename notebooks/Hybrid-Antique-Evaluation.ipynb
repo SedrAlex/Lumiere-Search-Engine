{
  "nbformat": 4,
  "nbformat_minor": 0,
  "metadata": {
    "colab": {
      "provenance": []
    },
    "kernelspec": {
      "name": "python3",
      "display_name": "Python 3"
    },
    "language_info": {
      "name": "python"
    }
  },
  "cells": [
    {
      "cell_type": "code",
      "source": [],
      "metadata": {
        "id": "0YGRo30SLVIh"
      },
      "execution_count": null,
      "outputs": []
    },
    {
      "cell_type": "code",
      "execution_count": 3,
      "metadata": {
        "colab": {
          "base_uri": "https://localhost:8080/"
        },
        "id": "2c17lWM-76RK",
        "outputId": "6ae0f6ce-1734-4e3c-e766-d29ccf7b30b9"
      },
      "outputs": [
        {
          "output_type": "stream",
          "name": "stdout",
          "text": [
            "Mounted at /content/drive\n",
            "/content/drive/MyDrive/Hybrid\n"
          ]
        }
      ],
      "source": [
        "from google.colab import drive\n",
        "drive.mount('/content/drive')\n",
        "# Change directory to where your files are located\n",
        "%cd /content/drive/MyDrive/Hybrid"
      ]
    },
    {
      "cell_type": "code",
      "source": [
        "!pip install fastapi uvicorn sentence-transformers pandas nltk sklearn joblib\n",
        "import nltk\n",
        "nltk.download('punkt')\n",
        "nltk.download('stopwords')\n",
        "nltk.download('wordnet')\n",
        "nltk.download('punkt_tab')"
      ],
      "metadata": {
        "colab": {
          "base_uri": "https://localhost:8080/"
        },
        "id": "Ygk7MkBTLVsR",
        "outputId": "61105955-2dbd-4465-ead4-65239ea65794"
      },
      "execution_count": 4,
      "outputs": [
        {
          "output_type": "stream",
          "name": "stdout",
          "text": [
            "Requirement already satisfied: fastapi in /usr/local/lib/python3.11/dist-packages (0.116.0)\n",
            "Requirement already satisfied: uvicorn in /usr/local/lib/python3.11/dist-packages (0.35.0)\n",
            "Requirement already satisfied: sentence-transformers in /usr/local/lib/python3.11/dist-packages (4.1.0)\n",
            "Requirement already satisfied: pandas in /usr/local/lib/python3.11/dist-packages (2.2.2)\n",
            "Requirement already satisfied: nltk in /usr/local/lib/python3.11/dist-packages (3.9.1)\n",
            "Collecting sklearn\n",
            "  Downloading sklearn-0.0.post12.tar.gz (2.6 kB)\n",
            "  \u001b[1;31merror\u001b[0m: \u001b[1msubprocess-exited-with-error\u001b[0m\n",
            "  \n",
            "  \u001b[31m×\u001b[0m \u001b[32mpython setup.py egg_info\u001b[0m did not run successfully.\n",
            "  \u001b[31m│\u001b[0m exit code: \u001b[1;36m1\u001b[0m\n",
            "  \u001b[31m╰─>\u001b[0m See above for output.\n",
            "  \n",
            "  \u001b[1;35mnote\u001b[0m: This error originates from a subprocess, and is likely not a problem with pip.\n",
            "  Preparing metadata (setup.py) ... \u001b[?25l\u001b[?25herror\n",
            "\u001b[1;31merror\u001b[0m: \u001b[1mmetadata-generation-failed\u001b[0m\n",
            "\n",
            "\u001b[31m×\u001b[0m Encountered error while generating package metadata.\n",
            "\u001b[31m╰─>\u001b[0m See above for output.\n",
            "\n",
            "\u001b[1;35mnote\u001b[0m: This is an issue with the package mentioned above, not pip.\n",
            "\u001b[1;36mhint\u001b[0m: See above for details.\n"
          ]
        },
        {
          "output_type": "stream",
          "name": "stderr",
          "text": [
            "[nltk_data] Downloading package punkt to /root/nltk_data...\n",
            "[nltk_data]   Unzipping tokenizers/punkt.zip.\n",
            "[nltk_data] Downloading package stopwords to /root/nltk_data...\n",
            "[nltk_data]   Unzipping corpora/stopwords.zip.\n",
            "[nltk_data] Downloading package wordnet to /root/nltk_data...\n",
            "[nltk_data] Downloading package punkt_tab to /root/nltk_data...\n",
            "[nltk_data]   Unzipping tokenizers/punkt_tab.zip.\n"
          ]
        },
        {
          "output_type": "execute_result",
          "data": {
            "text/plain": [
              "True"
            ]
          },
          "metadata": {},
          "execution_count": 4
        }
      ]
    },
    {
      "cell_type": "code",
      "source": [
        "!python3 model_loader.py"
      ],
      "metadata": {
        "colab": {
          "base_uri": "https://localhost:8080/"
        },
        "id": "-M5e-i5ILacO",
        "outputId": "7ba08c33-73a3-4bba-b2e1-bdb053a160b3"
      },
      "execution_count": 5,
      "outputs": [
        {
          "output_type": "stream",
          "name": "stdout",
          "text": [
            "INFO:__main__:Setting up OptimizedAntiqueTextCleaner for pickle loading...\n",
            "INFO:__main__:Loading TF-IDF vectorizer...\n",
            "INFO:__main__:Loading TF-IDF matrix...\n",
            "INFO:__main__:Loading inverted index...\n",
            "INFO:__main__:Loading document mappings...\n",
            "INFO:__main__:Models loaded successfully:\n",
            "INFO:__main__:  - TF-IDF Matrix: (402025, 150000)\n",
            "INFO:__main__:  - Vocabulary: 150000 terms\n",
            "INFO:__main__:  - Inverted Index: 150000 terms\n",
            "INFO:__main__:  - Documents: 402025 documents\n",
            "INFO:__main__:  - Matrix sparsity: 99.98%\n",
            "✓ All models loaded successfully!\n",
            "✓ Test query processed: vector shape (1, 150000), nnz: 1\n"
          ]
        }
      ]
    },
    {
      "cell_type": "code",
      "source": [
        "!lsof -i :8006 || echo \"Port 8006 is free\""
      ],
      "metadata": {
        "colab": {
          "base_uri": "https://localhost:8080/"
        },
        "id": "Fm2N7F1zs4qu",
        "outputId": "c93c3566-edb6-47a3-ec43-ff18ee788338"
      },
      "execution_count": 14,
      "outputs": [
        {
          "output_type": "stream",
          "name": "stdout",
          "text": [
            "Port 8006 is free\n"
          ]
        }
      ]
    },
    {
      "cell_type": "code",
      "source": [
        "!nohup python3 hybrid_antique_query_processing.py > service.log 2>&1 &"
      ],
      "metadata": {
        "id": "8ebE4h19LW45"
      },
      "execution_count": 16,
      "outputs": []
    },
    {
      "cell_type": "code",
      "source": [
        "import time\n",
        "time.sleep(20)\n",
        "!netstat -tulnp | grep 8006 || echo \"Service not bound to port\""
      ],
      "metadata": {
        "colab": {
          "base_uri": "https://localhost:8080/"
        },
        "id": "gp7HH-9cty7G",
        "outputId": "93e19fd9-cc31-439d-d249-01b7698f4e8f"
      },
      "execution_count": 17,
      "outputs": [
        {
          "output_type": "stream",
          "name": "stdout",
          "text": [
            "tcp        0      0 0.0.0.0:8006            0.0.0.0:*               LISTEN      7620/python3        \n"
          ]
        }
      ]
    },
    {
      "cell_type": "code",
      "source": [
        "!python3 evaluation_metrics.py\n",
        "!python3 run_evaluation.py iw ant"
      ],
      "metadata": {
        "id": "iYsWiMoKV6X6",
        "colab": {
          "base_uri": "https://localhost:8080/"
        },
        "outputId": "5c99dd99-2d56-40f7-8a54-30f3009d170e"
      },
      "execution_count": 18,
      "outputs": [
        {
          "output_type": "stream",
          "name": "stdout",
          "text": [
            "INFO:__main__:Loaded 2426 queries\n",
            "INFO:__main__:Loaded qrels for 2426 queries\n",
            "INFO:__main__:Loaded 2426 queries and 2426 query-document pairs\n",
            "Starting evaluation...\n",
            "INFO:__main__:Evaluating 50 queries\n",
            "INFO:__main__:Using parallel evaluation with 4 workers\n",
            "Evaluating queries: 100% 50/50 [01:12<00:00,  1.45s/it]\n",
            "\n",
            "============================================================\n",
            "ANTIQUE HYBRID SEARCH EVALUATION RESULTS\n",
            "============================================================\n",
            "\n",
            "Evaluation Summary:\n",
            "  Total Queries Evaluated: 50\n",
            "  Queries with Results: 50\n",
            "  Total Relevant Documents: 616\n",
            "  Total Retrieved Documents: 50000\n",
            "  Avg Relevant per Query: 12.32\n",
            "  Avg Retrieved per Query: 1000.00\n",
            "\n",
            "Aggregate Metrics:\n",
            "  MAP (Mean Average Precision): 0.1515\n",
            "  MRR (Mean Reciprocal Rank): 0.4413\n",
            "  Mean P@1: 0.2800\n",
            "  Mean P@5: 0.2360\n",
            "  Mean P@10: 0.1720\n",
            "  Mean P@20: 0.1250\n",
            "  Mean NDCG@1: 0.2800\n",
            "  Mean NDCG@5: 0.2563\n",
            "  Mean NDCG@10: 0.2481\n",
            "  Mean NDCG@20: 0.2610\n",
            "\n",
            "============================================================\n",
            "INFO:__main__:Results saved to antique_evaluation_results_1752375539.json\n",
            "\n",
            "Evaluation completed in 72.74 seconds\n",
            "Results saved to: antique_evaluation_results_1752375539.json\n",
            "\n",
            "Top 10 Best Performing Queries (by AP):\n",
            "  1. Query 1404559: AP=0.5449, RR=1.0000\n",
            "     \"How should I prepare whale bones in order to get rid of flesh and have it ready ...\"\n",
            "  2. Query 2457214: AP=0.5242, RR=1.0000\n",
            "     \"what's the meaning of fax and voicemail?\"\n",
            "  3. Query 2432710: AP=0.4618, RR=1.0000\n",
            "     \"what is the meaning of \"nikita\"?\"\n",
            "  4. Query 3910705: AP=0.4411, RR=1.0000\n",
            "     \"why don't they put parachutes underneath airplane seats?\"\n",
            "  5. Query 3769487: AP=0.3580, RR=1.0000\n",
            "     \"What's a Taxi Medallion?\"\n",
            "  6. Query 3486120: AP=0.3560, RR=1.0000\n",
            "     \"Why does PAMELA   ANDERSON ........NOT CARE about  Children?\"\n",
            "  7. Query 3116225: AP=0.3406, RR=1.0000\n",
            "     \"How do U get rid of corns on the toes?\"\n",
            "  8. Query 3049682: AP=0.3293, RR=1.0000\n",
            "     \"How do you determine if something is considered common knowledge?\"\n",
            "  9. Query 1078492: AP=0.3250, RR=1.0000\n",
            "     \"What is Cloud 9 and 7th Heaven?\"\n",
            "  10. Query 3083719: AP=0.2983, RR=0.3333\n",
            "     \"How do you safely wean a person off Risperidal?\"\n",
            "\n",
            "Top 10 Worst Performing Queries (by AP):\n",
            "  1. Query 2305171: AP=0.0003, RR=0.0017\n",
            "     \"what is the difference between a cigarette and a hand rolled joint?\"\n",
            "  2. Query 2181797: AP=0.0010, RR=0.0024\n",
            "     \"How to become a millionaire?\"\n",
            "  3. Query 3884772: AP=0.0038, RR=0.0370\n",
            "     \"How about a bumper sticker thats says:?\"\n",
            "  4. Query 1398838: AP=0.0046, RR=0.0185\n",
            "     \"What does \"crunching numbers\" mean?\"\n",
            "  5. Query 443147: AP=0.0085, RR=0.0200\n",
            "     \"How to fade the Scar Mark of face appeared by Stitches?\"\n",
            "  6. Query 1907320: AP=0.0110, RR=0.0417\n",
            "     \"How do I get college money?\"\n",
            "  7. Query 2689609: AP=0.0111, RR=0.1000\n",
            "     \"Why do people ignore global issues?\"\n",
            "  8. Query 2750940: AP=0.0152, RR=0.0303\n",
            "     \"What are the physical benefits of sex?\"\n",
            "  9. Query 2247892: AP=0.0221, RR=0.0400\n",
            "     \"how do i get them whiter?\"\n",
            "  10. Query 687186: AP=0.0257, RR=0.1429\n",
            "     \"what is the best hangover cure and dont tell me \"Dont Drink\" that is the lamest ...\"\n",
            "ANTIQUE Hybrid Search Evaluation Runner\n",
            "==================================================\n",
            "Hybrid search service is already running!\n",
            "\n",
            "Starting evaluation process...\n",
            "Running evaluation...\n",
            "INFO:evaluation_metrics:Loaded 2426 queries\n",
            "INFO:evaluation_metrics:Loaded qrels for 2426 queries\n",
            "INFO:evaluation_metrics:Loaded 2426 queries and 2426 query-document pairs\n",
            "Evaluating first 20 queries (for quick testing)...\n",
            "INFO:evaluation_metrics:Evaluating 2426 queries\n",
            "INFO:evaluation_metrics:Using parallel evaluation with 2 workers\n",
            "Evaluating queries: 100% 2426/2426 [40:50<00:00,  1.01s/it]\n",
            "\n",
            "============================================================\n",
            "ANTIQUE HYBRID SEARCH EVALUATION RESULTS\n",
            "============================================================\n",
            "\n",
            "Evaluation Summary:\n",
            "  Total Queries Evaluated: 2426\n",
            "  Queries with Results: 2426\n",
            "  Total Relevant Documents: 27422\n",
            "  Total Retrieved Documents: 1213000\n",
            "  Avg Relevant per Query: 11.30\n",
            "  Avg Retrieved per Query: 500.00\n",
            "\n",
            "Aggregate Metrics:\n",
            "  MAP (Mean Average Precision): 0.1833\n",
            "  MRR (Mean Reciprocal Rank): 0.4841\n",
            "  Mean P@1: 0.3442\n",
            "  Mean P@5: 0.2641\n",
            "  Mean P@10: 0.2035\n",
            "  Mean P@20: 0.1442\n",
            "  Mean NDCG@1: 0.3442\n",
            "  Mean NDCG@5: 0.2938\n",
            "  Mean NDCG@10: 0.2807\n",
            "  Mean NDCG@20: 0.2938\n",
            "\n",
            "============================================================\n",
            "INFO:evaluation_metrics:Results saved to quick_antique_evaluation_results_1752377993.json\n",
            "\n",
            "Results saved to: quick_antique_evaluation_results_1752377993.json\n",
            "\n",
            "Evaluation completed successfully!\n"
          ]
        }
      ]
    },
    {
      "cell_type": "code",
      "source": [],
      "metadata": {
        "id": "hyHLv0APV3Jz"
      },
      "execution_count": null,
      "outputs": []
    }
  ]
}